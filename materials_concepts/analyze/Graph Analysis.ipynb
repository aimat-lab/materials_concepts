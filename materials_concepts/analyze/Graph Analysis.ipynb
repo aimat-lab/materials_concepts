{
 "cells": [
  {
   "cell_type": "code",
   "execution_count": 1,
   "id": "0dece9be",
   "metadata": {},
   "outputs": [],
   "source": [
    "from graph import Graph"
   ]
  },
  {
   "cell_type": "code",
   "execution_count": 4,
   "id": "eef2e846",
   "metadata": {},
   "outputs": [],
   "source": [
    "G = Graph.from_path(\"../data/graph/edges.M2.pkl\")"
   ]
  },
  {
   "cell_type": "code",
   "execution_count": 6,
   "id": "f78dc66a",
   "metadata": {},
   "outputs": [],
   "source": [
    "g16 = G.get_nx_graph(2016)"
   ]
  },
  {
   "cell_type": "code",
   "execution_count": 7,
   "id": "c4134592",
   "metadata": {},
   "outputs": [],
   "source": [
    "g19 = G.get_nx_graph(2019)"
   ]
  },
  {
   "cell_type": "code",
   "execution_count": 21,
   "id": "5432a0ac",
   "metadata": {},
   "outputs": [
    {
     "name": "stdout",
     "output_type": "stream",
     "text": [
      "#new edges 1,313,933\n",
      "#possible edges 18,681,823,400\n",
      "Ratio:  0.0070332160403571735\n"
     ]
    }
   ],
   "source": [
    "positives = len(g19.edges) - len(g16.edges)\n",
    "print(\"#new edges\", \"{0:,}\".format(positives))\n",
    "\n",
    "amt_future_nodes = len(g19.nodes)\n",
    "amt_edges = len(g16.edges)\n",
    "possible = amt_future_nodes * amt_future_nodes - amt_edges\n",
    "print(\"#possible edges\", \"{0:,}\".format(possible))\n",
    "\n",
    "print(\"Ratio: \", positives / possible * 100)"
   ]
  }
 ],
 "metadata": {
  "kernelspec": {
   "display_name": "venv",
   "language": "python",
   "name": "venv"
  },
  "language_info": {
   "codemirror_mode": {
    "name": "ipython",
    "version": 3
   },
   "file_extension": ".py",
   "mimetype": "text/x-python",
   "name": "python",
   "nbconvert_exporter": "python",
   "pygments_lexer": "ipython3",
   "version": "3.9.6"
  }
 },
 "nbformat": 4,
 "nbformat_minor": 5
}
